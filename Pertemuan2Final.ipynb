{
  "nbformat": 4,
  "nbformat_minor": 0,
  "metadata": {
    "colab": {
      "name": "Untitled0.ipynb",
      "provenance": [],
      "authorship_tag": "ABX9TyObBqhDNVcuwoUGv1H8HkO1",
      "include_colab_link": true
    },
    "kernelspec": {
      "name": "python3",
      "display_name": "Python 3"
    }
  },
  "cells": [
    {
      "cell_type": "markdown",
      "metadata": {
        "id": "view-in-github",
        "colab_type": "text"
      },
      "source": [
        "<a href=\"https://colab.research.google.com/github/gabrielafel/Python_535180057/blob/master/Pertemuan2Final.ipynb\" target=\"_parent\"><img src=\"https://colab.research.google.com/assets/colab-badge.svg\" alt=\"Open In Colab\"/></a>"
      ]
    },
    {
      "cell_type": "code",
      "metadata": {
        "id": "I0WGwowpn536",
        "colab_type": "code",
        "colab": {
          "base_uri": "https://localhost:8080/",
          "height": 85
        },
        "outputId": "beba9235-a906-4cbd-ec43-7fb394080114"
      },
      "source": [
        "  a = 7\n",
        "  b = 3.141592\n",
        "  c = \"Hello World\"\n",
        "  d = 'The quick brown fox'\n",
        "\n",
        "  print(a)\n",
        "  print(\"Nilai pi = \", b)\n",
        "  print(c)\n",
        "  print(\"Some people says, \", d)"
      ],
      "execution_count": 5,
      "outputs": [
        {
          "output_type": "stream",
          "text": [
            "7\n",
            "Nilai pi =  3.141592\n",
            "Hello World\n",
            "Some people says,  The quick brown fox\n"
          ],
          "name": "stdout"
        }
      ]
    },
    {
      "cell_type": "code",
      "metadata": {
        "id": "grfkXAqK1_Xo",
        "colab_type": "code",
        "colab": {
          "base_uri": "https://localhost:8080/",
          "height": 85
        },
        "outputId": "65a7938c-7581-4314-ce2c-e3a77cacd677"
      },
      "source": [
        "  x = input(\"Masukkan sebuah bilangan: \")\n",
        "  print(x)\n",
        "  print(type(x))\n",
        "\n",
        "  y = int(x)+5\n",
        "  print(y)"
      ],
      "execution_count": 6,
      "outputs": [
        {
          "output_type": "stream",
          "text": [
            "Masukkan sebuah bilangan: 6\n",
            "6\n",
            "<class 'str'>\n",
            "11\n"
          ],
          "name": "stdout"
        }
      ]
    },
    {
      "cell_type": "code",
      "metadata": {
        "id": "1oXpVJfP3IPt",
        "colab_type": "code",
        "colab": {
          "base_uri": "https://localhost:8080/",
          "height": 119
        },
        "outputId": "ee943c56-fb1c-4b98-b243-cc149394d00c"
      },
      "source": [
        "  x = 15\n",
        "  y = 6\n",
        "\n",
        "  z = x + y\n",
        "  print(z)\n",
        "\n",
        "  z = x - y\n",
        "  print(z)\n",
        "\n",
        "  z = x * y\n",
        "  print(z)\n",
        "\n",
        "  z = x / y\n",
        "  print(z)\n",
        "\n",
        "  z = x % y\n",
        "  print(z)\n",
        "\n",
        "  z = x ** y\n",
        "  print(z)"
      ],
      "execution_count": 7,
      "outputs": [
        {
          "output_type": "stream",
          "text": [
            "21\n",
            "9\n",
            "90\n",
            "2.5\n",
            "3\n",
            "11390625\n"
          ],
          "name": "stdout"
        }
      ]
    },
    {
      "cell_type": "code",
      "metadata": {
        "id": "T2AqP1xL3Jxd",
        "colab_type": "code",
        "colab": {
          "base_uri": "https://localhost:8080/",
          "height": 136
        },
        "outputId": "12be900f-5276-4fa1-e616-9155eb9dd43b"
      },
      "source": [
        "  import math\n",
        "\n",
        "  print(math.log(100)) #logaritma natural, basis e\n",
        "  print(math.log10(1000)) #log basis 10\n",
        "  print(math.log2(1000)) #log basis 2\n",
        "  print(math.sqrt(4250)) #akar\n",
        "  print(math.pi)\n",
        "  print(math.e)\n",
        "  print(math.exp(5))"
      ],
      "execution_count": 8,
      "outputs": [
        {
          "output_type": "stream",
          "text": [
            "4.605170185988092\n",
            "3.0\n",
            "9.965784284662087\n",
            "65.19202405202648\n",
            "3.141592653589793\n",
            "2.718281828459045\n",
            "148.4131591025766\n"
          ],
          "name": "stdout"
        }
      ]
    },
    {
      "cell_type": "code",
      "metadata": {
        "id": "5QwrNOIwBUnw",
        "colab_type": "code",
        "colab": {
          "base_uri": "https://localhost:8080/",
          "height": 68
        },
        "outputId": "57d4f091-4ecc-4cb9-e38a-97d3df6be9ec"
      },
      "source": [
        "  #membuat function\n",
        "\n",
        "  def luas(a, t):\n",
        "    L = 0.5 * a * t\n",
        "    return L\n",
        "\n",
        "  alas = float(input(\"Masukkan alas: \"))\n",
        "  tinggi = float(input(\"Masukkan tinggi: \"))\n",
        "    \n",
        "  print(\"Luas =\", luas(alas,tinggi))"
      ],
      "execution_count": 9,
      "outputs": [
        {
          "output_type": "stream",
          "text": [
            "Masukkan alas: 5\n",
            "Masukkan tinggi: 6\n",
            "Luas = 15.0\n"
          ],
          "name": "stdout"
        }
      ]
    },
    {
      "cell_type": "code",
      "metadata": {
        "id": "Br3Q_MX6Dwec",
        "colab_type": "code",
        "colab": {
          "base_uri": "https://localhost:8080/",
          "height": 68
        },
        "outputId": "6d0ba351-db33-45ae-cf2d-02243f9a0559"
      },
      "source": [
        " # list\n",
        " arr = [15, 21, 23, 45, 53]\n",
        " print(arr[0]) # zero-indexed\n",
        " print(arr[1])\n",
        " print(len(arr)) #panjang list"
      ],
      "execution_count": 10,
      "outputs": [
        {
          "output_type": "stream",
          "text": [
            "15\n",
            "21\n",
            "5\n"
          ],
          "name": "stdout"
        }
      ]
    },
    {
      "cell_type": "code",
      "metadata": {
        "id": "AeWWUhz4EZq1",
        "colab_type": "code",
        "colab": {
          "base_uri": "https://localhost:8080/",
          "height": 51
        },
        "outputId": "c22c5724-cfa7-4d5c-c298-8b9c165e7358"
      },
      "source": [
        "  print(arr)\n",
        "\n",
        "  arr.append(63)\n",
        "  arr.append(78)\n",
        "  arr.append(3)\n",
        "  print(arr)"
      ],
      "execution_count": 11,
      "outputs": [
        {
          "output_type": "stream",
          "text": [
            "[15, 21, 23, 45, 53]\n",
            "[15, 21, 23, 45, 53, 63, 78, 3]\n"
          ],
          "name": "stdout"
        }
      ]
    },
    {
      "cell_type": "code",
      "metadata": {
        "id": "H5jDWGEuGBgI",
        "colab_type": "code",
        "colab": {
          "base_uri": "https://localhost:8080/",
          "height": 34
        },
        "outputId": "414043ed-42dd-42c7-a6be-612ba2545471"
      },
      "source": [
        "  names = [\"Ari\", 1.34115, \"Budi\", 45, \"Charlie\"]\n",
        "  print(names)"
      ],
      "execution_count": 12,
      "outputs": [
        {
          "output_type": "stream",
          "text": [
            "['Ari', 1.34115, 'Budi', 45, 'Charlie']\n"
          ],
          "name": "stdout"
        }
      ]
    },
    {
      "cell_type": "code",
      "metadata": {
        "id": "L__WO632HAd5",
        "colab_type": "code",
        "colab": {
          "base_uri": "https://localhost:8080/",
          "height": 68
        },
        "outputId": "4b40cddc-458e-44eb-f7ab-edff052d7b76"
      },
      "source": [
        "  print(names[2:4])\n",
        "  print(names[1:])\n",
        "  print(names[:3])"
      ],
      "execution_count": 13,
      "outputs": [
        {
          "output_type": "stream",
          "text": [
            "['Budi', 45]\n",
            "[1.34115, 'Budi', 45, 'Charlie']\n",
            "['Ari', 1.34115, 'Budi']\n"
          ],
          "name": "stdout"
        }
      ]
    },
    {
      "cell_type": "code",
      "metadata": {
        "id": "Qz688b87Jhwu",
        "colab_type": "code",
        "colab": {
          "base_uri": "https://localhost:8080/",
          "height": 34
        },
        "outputId": "1b90f5ad-0163-4af3-be3d-7dc35f0cfabe"
      },
      "source": [
        " arr = [1,2,3]\n",
        " tup = (4,5,6)\n",
        " print(tup[0])\n",
        "\n",
        " tup[0] = 9 #error, tuples tidak bisa diubah stelah dibuat"
      ],
      "execution_count": 15,
      "outputs": [
        {
          "output_type": "stream",
          "text": [
            "4\n"
          ],
          "name": "stdout"
        }
      ]
    },
    {
      "cell_type": "code",
      "metadata": {
        "id": "fn5LPFECKXMZ",
        "colab_type": "code",
        "colab": {
          "base_uri": "https://localhost:8080/",
          "height": 34
        },
        "outputId": "f0935da9-288a-4f02-bd2f-bf723d3b5cef"
      },
      "source": [
        " #dictionary\n",
        " a = {\n",
        "     \"username\": \"labfti\",\n",
        "      \"uid\": 500,\n",
        "      \"home\": \"/home/labfti\"\n",
        " }\n",
        " print(a['username'])"
      ],
      "execution_count": 16,
      "outputs": [
        {
          "output_type": "stream",
          "text": [
            "labfti\n"
          ],
          "name": "stdout"
        }
      ]
    },
    {
      "cell_type": "code",
      "metadata": {
        "id": "SEN5Jw3uLnZz",
        "colab_type": "code",
        "colab": {
          "base_uri": "https://localhost:8080/",
          "height": 34
        },
        "outputId": "e3fd5934-ccbd-4f77-bbc5-a6275fd19621"
      },
      "source": [
        "  b= [[3,4], [5,6], [7,8]]\n",
        "  print(b[1][0])"
      ],
      "execution_count": 17,
      "outputs": [
        {
          "output_type": "stream",
          "text": [
            "5\n"
          ],
          "name": "stdout"
        }
      ]
    },
    {
      "cell_type": "code",
      "metadata": {
        "id": "ejuxDhamMDqh",
        "colab_type": "code",
        "colab": {
          "base_uri": "https://localhost:8080/",
          "height": 68
        },
        "outputId": "1b7e7ddc-86d1-4ed2-c013-775f567b4c6f"
      },
      "source": [
        "  #conditional\n",
        "  a = int(input(\"Input a number:\"))\n",
        "  b = int(input(\"Input another number:\"))\n",
        "\n",
        "  if a < b:\n",
        "    z=b\n",
        "  else:\n",
        "    z=a\n",
        "\n",
        "  print(\"The maximum is:\", z)"
      ],
      "execution_count": 18,
      "outputs": [
        {
          "output_type": "stream",
          "text": [
            "Input a number:5\n",
            "Input another number:8\n",
            "The maximum is: 8\n"
          ],
          "name": "stdout"
        }
      ]
    },
    {
      "cell_type": "code",
      "metadata": {
        "id": "qtXfAmxfOvZt",
        "colab_type": "code",
        "colab": {
          "base_uri": "https://localhost:8080/",
          "height": 51
        },
        "outputId": "b6cbfd63-7eca-428b-950e-69ac22d75985"
      },
      "source": [
        "  num = int(input(\"Input a number: \"))\n",
        "  \n",
        "  if num>0:\n",
        "    print(\"Positive\")\n",
        "  if num<0:\n",
        "    print(\"Negative\")\n",
        "  else:\n",
        "    print(\"Zero\")"
      ],
      "execution_count": 19,
      "outputs": [
        {
          "output_type": "stream",
          "text": [
            "Input a number: 0\n",
            "Zero\n"
          ],
          "name": "stdout"
        }
      ]
    },
    {
      "cell_type": "code",
      "metadata": {
        "id": "PLzMLEw8Qrns",
        "colab_type": "code",
        "colab": {
          "base_uri": "https://localhost:8080/",
          "height": 34
        },
        "outputId": "6750aedc-d81a-42fc-f457-66d218c22575"
      },
      "source": [
        "  num = 1000\n",
        "  if (num == 1000):\n",
        "    print(\"A thousand\")\n",
        "  elif not (num>0 or num>100):\n",
        "    print(\"More than 100\")\n",
        "  else:\n",
        "    print(\"Nope\")"
      ],
      "execution_count": 20,
      "outputs": [
        {
          "output_type": "stream",
          "text": [
            "A thousand\n"
          ],
          "name": "stdout"
        }
      ]
    },
    {
      "cell_type": "code",
      "metadata": {
        "id": "1VnAZo-iQ99z",
        "colab_type": "code",
        "colab": {
          "base_uri": "https://localhost:8080/",
          "height": 187
        },
        "outputId": "e7680082-b6a8-4e8f-e621-6f8cf334b860"
      },
      "source": [
        "  for i in range(1,100,10):\n",
        "    print(i)"
      ],
      "execution_count": 21,
      "outputs": [
        {
          "output_type": "stream",
          "text": [
            "1\n",
            "11\n",
            "21\n",
            "31\n",
            "41\n",
            "51\n",
            "61\n",
            "71\n",
            "81\n",
            "91\n"
          ],
          "name": "stdout"
        }
      ]
    },
    {
      "cell_type": "code",
      "metadata": {
        "id": "RyIltI9J4Vjb",
        "colab_type": "code",
        "colab": {
          "base_uri": "https://localhost:8080/",
          "height": 102
        },
        "outputId": "4c2bc94a-ddd0-41bd-c74e-91a463fac073"
      },
      "source": [
        "  a = 0\n",
        "  while (a<5):\n",
        "    print(a)\n",
        "    a = a+1"
      ],
      "execution_count": 22,
      "outputs": [
        {
          "output_type": "stream",
          "text": [
            "0\n",
            "1\n",
            "2\n",
            "3\n",
            "4\n"
          ],
          "name": "stdout"
        }
      ]
    },
    {
      "cell_type": "code",
      "metadata": {
        "id": "UMujpSjn6Zl9",
        "colab_type": "code",
        "colab": {
          "base_uri": "https://localhost:8080/",
          "height": 102
        },
        "outputId": "4a3412cd-d4b6-4111-ac14-87a8f4443639"
      },
      "source": [
        "  tup = (5,4,3,2,1)\n",
        "  for t in tup:\n",
        "    print(t)"
      ],
      "execution_count": 23,
      "outputs": [
        {
          "output_type": "stream",
          "text": [
            "5\n",
            "4\n",
            "3\n",
            "2\n",
            "1\n"
          ],
          "name": "stdout"
        }
      ]
    },
    {
      "cell_type": "code",
      "metadata": {
        "id": "IFZnIJwA8m7k",
        "colab_type": "code",
        "colab": {
          "base_uri": "https://localhost:8080/",
          "height": 265
        },
        "outputId": "5c76c705-e357-4d64-e026-454fab732a5c"
      },
      "source": [
        "import matplotlib.pyplot as plt\n",
        "plt.plot([1,2,3,4,5], [1,2,3,4,5])\n",
        "plt.show()"
      ],
      "execution_count": 24,
      "outputs": [
        {
          "output_type": "display_data",
          "data": {
            "image/png": "[encoded data removed]",
            "text/plain": [
              "<Figure size 432x288 with 1 Axes>"
            ]
          },
          "metadata": {
            "tags": [],
            "needs_background": "light"
          }
        }
      ]
    },
    {
      "cell_type": "code",
      "metadata": {
        "id": "vsb7b-KF9RvG",
        "colab_type": "code",
        "colab": {
          "base_uri": "https://localhost:8080/",
          "height": 329
        },
        "outputId": "415879e4-91a8-494d-e5c4-ad08eae561fb"
      },
      "source": [
        "import numpy as np\n",
        "t = np.arange(0.0, 5.0, 0.2)\n",
        "print(t)\n",
        "\n",
        "plt.plot(t,t, 'r--', t, t**2, 'bs', t, t**3, 'g^')\n",
        "plt.title('Grafik Macam-Macam')\n",
        "plt.xlabel('Sumbu X')\n",
        "plt.ylabel('Sumbu Y')\n",
        "plt.legend(['Garis Lurus', 'Kuadratik', 'Pangkat 3'])\n",
        "plt.grid(True)\n",
        "plt.show()"
      ],
      "execution_count": 25,
      "outputs": [
        {
          "output_type": "stream",
          "text": [
            "[0.  0.2 0.4 0.6 0.8 1.  1.2 1.4 1.6 1.8 2.  2.2 2.4 2.6 2.8 3.  3.2 3.4\n",
            " 3.6 3.8 4.  4.2 4.4 4.6 4.8]\n"
          ],
          "name": "stdout"
        },
        {
          "output_type": "display_data",
          "data": {
            "image/png": "[encoded data removed]",
            "text/plain": [
              "<Figure size 432x288 with 1 Axes>"
            ]
          },
          "metadata": {
            "tags": [],
            "needs_background": "light"
          }
        }
      ]
    },
    {
      "cell_type": "code",
      "metadata": {
        "id": "qc5cYskoAlKN",
        "colab_type": "code",
        "colab": {
          "base_uri": "https://localhost:8080/",
          "height": 265
        },
        "outputId": "3bf99a54-7ada-431c-839a-7fe0c83dc5d7"
      },
      "source": [
        "#def f(t): \n",
        "#  return np.exp(-t)* np.cos(2*np.pi*t)\n",
        "\n",
        "#lambda function\n",
        "f = lambda t: np.exp(-t) * np.cos(2 * np.pi * t)\n",
        "\n",
        "t1 = np.arange(0.0, 5.0, 0.1)\n",
        "t2 = np.arange(0.0, 5.0, 0.2)\n",
        "\n",
        "plt.subplot(211)\n",
        "plt.plot(t1, f(t1), 'bo', t2, f(t2), 'k')\n",
        "\n",
        "plt.subplot(212)\n",
        "plt.plot(t2, np.cos(2 * np.pi * t2), 'r--')\n",
        "\n",
        "plt.show()\n"
      ],
      "execution_count": 35,
      "outputs": [
        {
          "output_type": "display_data",
          "data": {
            "image/png": "[encoded data removed]",
            "text/plain": [
              "<Figure size 432x288 with 2 Axes>"
            ]
          },
          "metadata": {
            "tags": [],
            "needs_background": "light"
          }
        }
      ]
    }
  ]
}