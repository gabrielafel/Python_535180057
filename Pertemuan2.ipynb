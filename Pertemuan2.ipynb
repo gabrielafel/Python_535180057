{
  "nbformat": 4,
  "nbformat_minor": 0,
  "metadata": {
    "colab": {
      "name": "Untitled0.ipynb",
      "provenance": [],
      "authorship_tag": "ABX9TyMohIcvnG9akK/SciSp6fSk",
      "include_colab_link": true
    },
    "kernelspec": {
      "name": "python3",
      "display_name": "Python 3"
    }
  },
  "cells": [
    {
      "cell_type": "markdown",
      "metadata": {
        "id": "view-in-github",
        "colab_type": "text"
      },
      "source": [
        "<a href=\"https://colab.research.google.com/github/gabrielafel/Python_535180057/blob/master/Pertemuan2.ipynb\" target=\"_parent\"><img src=\"https://colab.research.google.com/assets/colab-badge.svg\" alt=\"Open In Colab\"/></a>"
      ]
    },
    {
      "cell_type": "code",
      "metadata": {
        "id": "I0WGwowpn536",
        "colab_type": "code",
        "colab": {
          "base_uri": "https://localhost:8080/",
          "height": 85
        },
        "outputId": "cb702cd0-ab1d-49a8-c96e-7a0990abc46e"
      },
      "source": [
        "  a = 7\n",
        "  b = 3.141592\n",
        "  c = \"Hello World\"\n",
        "  d = 'The quick brown fox'\n",
        "\n",
        "  print(a)\n",
        "  print(\"Nilai pi = \", b)\n",
        "  print(c)\n",
        "  print(\"Some people says, \", d)"
      ],
      "execution_count": null,
      "outputs": [
        {
          "output_type": "stream",
          "text": [
            "7\n",
            "Nilai pi =  3.141592\n",
            "Hello World\n",
            "Some people says,  The quick brown fox\n"
          ],
          "name": "stdout"
        }
      ]
    },
    {
      "cell_type": "code",
      "metadata": {
        "id": "grfkXAqK1_Xo",
        "colab_type": "code",
        "colab": {
          "base_uri": "https://localhost:8080/",
          "height": 85
        },
        "outputId": "821b5b8d-67e5-456d-94ad-5848e08785f3"
      },
      "source": [
        "  x = input(\"Masukkan sebuah bilangan: \")\n",
        "  print(x)\n",
        "  print(type(x))\n",
        "\n",
        "  y = int(x)+5\n",
        "  print(y)"
      ],
      "execution_count": null,
      "outputs": [
        {
          "output_type": "stream",
          "text": [
            "Masukkan sebuah bilangan: 8\n",
            "8\n",
            "<class 'str'>\n",
            "13\n"
          ],
          "name": "stdout"
        }
      ]
    },
    {
      "cell_type": "code",
      "metadata": {
        "id": "1oXpVJfP3IPt",
        "colab_type": "code",
        "colab": {
          "base_uri": "https://localhost:8080/",
          "height": 119
        },
        "outputId": "8b5fe2ce-7677-4e94-b619-e5b35b3fa615"
      },
      "source": [
        "  x = 15\n",
        "  y = 6\n",
        "\n",
        "  z = x + y\n",
        "  print(z)\n",
        "\n",
        "  z = x - y\n",
        "  print(z)\n",
        "\n",
        "  z = x * y\n",
        "  print(z)\n",
        "\n",
        "  z = x / y\n",
        "  print(z)\n",
        "\n",
        "  z = x % y\n",
        "  print(z)\n",
        "\n",
        "  z = x ** y\n",
        "  print(z)"
      ],
      "execution_count": null,
      "outputs": [
        {
          "output_type": "stream",
          "text": [
            "21\n",
            "9\n",
            "90\n",
            "2.5\n",
            "3\n",
            "11390625\n"
          ],
          "name": "stdout"
        }
      ]
    },
    {
      "cell_type": "code",
      "metadata": {
        "id": "T2AqP1xL3Jxd",
        "colab_type": "code",
        "colab": {
          "base_uri": "https://localhost:8080/",
          "height": 136
        },
        "outputId": "aa30e63f-0def-490d-9d70-2d7de514c661"
      },
      "source": [
        "  import math\n",
        "\n",
        "  print(math.log(100)) #logaritma natural, basis e\n",
        "  print(math.log10(1000)) #log basis 10\n",
        "  print(math.log2(1000)) #log basis 2\n",
        "  print(math.sqrt(4250)) #akar\n",
        "  print(math.pi)\n",
        "  print(math.e)\n",
        "  print(math.exp(5))"
      ],
      "execution_count": null,
      "outputs": [
        {
          "output_type": "stream",
          "text": [
            "4.605170185988092\n",
            "3.0\n",
            "9.965784284662087\n",
            "65.19202405202648\n",
            "3.141592653589793\n",
            "2.718281828459045\n",
            "148.4131591025766\n"
          ],
          "name": "stdout"
        }
      ]
    },
    {
      "cell_type": "code",
      "metadata": {
        "id": "5QwrNOIwBUnw",
        "colab_type": "code",
        "colab": {
          "base_uri": "https://localhost:8080/",
          "height": 68
        },
        "outputId": "10f086e8-824e-46a2-99c1-78769bfe7bf5"
      },
      "source": [
        "  #membuat function\n",
        "\n",
        "  def luas(a, t):\n",
        "    L = 0.5 * a * t\n",
        "    return L\n",
        "\n",
        "  alas = float(input(\"Masukkan alas: \"))\n",
        "  tinggi = float(input(\"Masukkan tinggi: \"))\n",
        "    \n",
        "  print(\"Luas =\", luas(alas,tinggi))"
      ],
      "execution_count": null,
      "outputs": [
        {
          "output_type": "stream",
          "text": [
            "Masukkan alas: 5\n",
            "Masukkan tinggi: 6\n",
            "Luas = 15.0\n"
          ],
          "name": "stdout"
        }
      ]
    },
    {
      "cell_type": "code",
      "metadata": {
        "id": "Br3Q_MX6Dwec",
        "colab_type": "code",
        "colab": {
          "base_uri": "https://localhost:8080/",
          "height": 68
        },
        "outputId": "86cd28df-8f64-47c5-e2bb-cc0c45b2a7c1"
      },
      "source": [
        " # list\n",
        " arr = [15, 21, 23, 45, 53]\n",
        " print(arr[0]) # zero-indexed\n",
        " print(arr[1])\n",
        " print(len(arr)) #panjang list"
      ],
      "execution_count": null,
      "outputs": [
        {
          "output_type": "stream",
          "text": [
            "15\n",
            "21\n",
            "5\n"
          ],
          "name": "stdout"
        }
      ]
    },
    {
      "cell_type": "code",
      "metadata": {
        "id": "AeWWUhz4EZq1",
        "colab_type": "code",
        "colab": {
          "base_uri": "https://localhost:8080/",
          "height": 51
        },
        "outputId": "cbc6725f-6176-40bd-ce33-da56178b1cdc"
      },
      "source": [
        "  print(arr)\n",
        "\n",
        "  arr.append(63)\n",
        "  arr.append(78)\n",
        "  arr.append(3)\n",
        "  print(arr)"
      ],
      "execution_count": null,
      "outputs": [
        {
          "output_type": "stream",
          "text": [
            "[15, 21, 23, 45, 53, 63, 78, 3]\n",
            "[15, 21, 23, 45, 53, 63, 78, 3, 63, 78, 3]\n"
          ],
          "name": "stdout"
        }
      ]
    },
    {
      "cell_type": "code",
      "metadata": {
        "id": "H5jDWGEuGBgI",
        "colab_type": "code",
        "colab": {
          "base_uri": "https://localhost:8080/",
          "height": 34
        },
        "outputId": "9284d4e4-a1c2-410a-c209-218b39c5fcbd"
      },
      "source": [
        "  names = [\"Ari\", 1.34115, \"Budi\", 45, \"Charlie\"]\n",
        "  print(names)"
      ],
      "execution_count": null,
      "outputs": [
        {
          "output_type": "stream",
          "text": [
            "['Ari', 1.34115, 'Budi', 45, 'Charlie']\n"
          ],
          "name": "stdout"
        }
      ]
    },
    {
      "cell_type": "code",
      "metadata": {
        "id": "L__WO632HAd5",
        "colab_type": "code",
        "colab": {
          "base_uri": "https://localhost:8080/",
          "height": 68
        },
        "outputId": "bed89b8f-7142-452c-9f62-751a921d0f1f"
      },
      "source": [
        "  print(names[2:4])\n",
        "  print(names[1:])\n",
        "  print(names[:3])"
      ],
      "execution_count": null,
      "outputs": [
        {
          "output_type": "stream",
          "text": [
            "['Budi', 45]\n",
            "[1.34115, 'Budi', 45, 'Charlie']\n",
            "['Ari', 1.34115, 'Budi']\n"
          ],
          "name": "stdout"
        }
      ]
    },
    {
      "cell_type": "code",
      "metadata": {
        "id": "Qz688b87Jhwu",
        "colab_type": "code",
        "colab": {
          "base_uri": "https://localhost:8080/",
          "height": 34
        },
        "outputId": "b19ebcb4-a15d-4ac2-ddda-764f524ac00e"
      },
      "source": [
        " arr = [1,2,3]\n",
        " tup = (4,5,6)\n",
        " print(tup[0])\n",
        "\n",
        " tup[0] = 9 #error, tuples tidak bisa diubah stelah dibuat"
      ],
      "execution_count": null,
      "outputs": [
        {
          "output_type": "stream",
          "text": [
            "4\n"
          ],
          "name": "stdout"
        }
      ]
    },
    {
      "cell_type": "code",
      "metadata": {
        "id": "fn5LPFECKXMZ",
        "colab_type": "code",
        "colab": {
          "base_uri": "https://localhost:8080/",
          "height": 34
        },
        "outputId": "8dcae051-2dcf-401d-ff3b-db09b57d1725"
      },
      "source": [
        " #dictionary\n",
        " a = {\n",
        "     \"username\": \"labfti\",\n",
        "      \"uid\": 500,\n",
        "      \"home\": \"/home/labfti\"\n",
        " }\n",
        " print(a['username'])"
      ],
      "execution_count": null,
      "outputs": [
        {
          "output_type": "stream",
          "text": [
            "labfti\n"
          ],
          "name": "stdout"
        }
      ]
    },
    {
      "cell_type": "code",
      "metadata": {
        "id": "SEN5Jw3uLnZz",
        "colab_type": "code",
        "colab": {
          "base_uri": "https://localhost:8080/",
          "height": 34
        },
        "outputId": "835eba31-dc9d-4ebe-92d4-27c8e8314e72"
      },
      "source": [
        "  b= [[3,4], [5,6], [7,8]]\n",
        "  print(b[1][0])"
      ],
      "execution_count": null,
      "outputs": [
        {
          "output_type": "stream",
          "text": [
            "5\n"
          ],
          "name": "stdout"
        }
      ]
    },
    {
      "cell_type": "code",
      "metadata": {
        "id": "ejuxDhamMDqh",
        "colab_type": "code",
        "colab": {
          "base_uri": "https://localhost:8080/",
          "height": 68
        },
        "outputId": "2f6a3a2b-6afe-442d-a62d-5fd5eca64627"
      },
      "source": [
        "  #conditional\n",
        "  a = int(input(\"Input a number:\"))\n",
        "  b = int(input(\"Input another number:\"))\n",
        "\n",
        "  if a < b:\n",
        "    z=b\n",
        "  else:\n",
        "    z=a\n",
        "\n",
        "  print(\"The maximum is:\", z)"
      ],
      "execution_count": null,
      "outputs": [
        {
          "output_type": "stream",
          "text": [
            "Input a number:3\n",
            "Input another number:4\n",
            "The maximum is: 4\n"
          ],
          "name": "stdout"
        }
      ]
    },
    {
      "cell_type": "code",
      "metadata": {
        "id": "qtXfAmxfOvZt",
        "colab_type": "code",
        "colab": {
          "base_uri": "https://localhost:8080/",
          "height": 51
        },
        "outputId": "d5843edd-3efb-4c7b-8752-866f0e8b6ed5"
      },
      "source": [
        "  num = int(input(\"Input a number: \"))\n",
        "  \n",
        "  if num>0:\n",
        "    print(\"Positive\")\n",
        "  if num<0:\n",
        "    print(\"Negative\")\n",
        "  else:\n",
        "    print(\"Zero\")"
      ],
      "execution_count": null,
      "outputs": [
        {
          "output_type": "stream",
          "text": [
            "Input a number: -5\n",
            "Negative\n"
          ],
          "name": "stdout"
        }
      ]
    },
    {
      "cell_type": "code",
      "metadata": {
        "id": "PLzMLEw8Qrns",
        "colab_type": "code",
        "colab": {
          "base_uri": "https://localhost:8080/",
          "height": 34
        },
        "outputId": "377ce1a6-c81d-41ea-fc0d-fe6904bad376"
      },
      "source": [
        "  num = 1000\n",
        "  if (num == 1000):\n",
        "    print(\"A thousand\")\n",
        "  elif not (num>0 or num>100):\n",
        "    print(\"More than 100\")\n",
        "  else:\n",
        "    print(\"Nope\")"
      ],
      "execution_count": null,
      "outputs": [
        {
          "output_type": "stream",
          "text": [
            "A thousand\n"
          ],
          "name": "stdout"
        }
      ]
    },
    {
      "cell_type": "code",
      "metadata": {
        "id": "1VnAZo-iQ99z",
        "colab_type": "code",
        "colab": {
          "base_uri": "https://localhost:8080/",
          "height": 187
        },
        "outputId": "ee05a1eb-84f1-4a6c-c1a3-6bc26a47a819"
      },
      "source": [
        "  for i in range(1,100,10):\n",
        "    print(i)"
      ],
      "execution_count": null,
      "outputs": [
        {
          "output_type": "stream",
          "text": [
            "1\n",
            "11\n",
            "21\n",
            "31\n",
            "41\n",
            "51\n",
            "61\n",
            "71\n",
            "81\n",
            "91\n"
          ],
          "name": "stdout"
        }
      ]
    },
    {
      "cell_type": "code",
      "metadata": {
        "id": "RyIltI9J4Vjb",
        "colab_type": "code",
        "colab": {
          "base_uri": "https://localhost:8080/",
          "height": 102
        },
        "outputId": "d0441ab3-fc8b-45c6-de2f-f3ee29ed3195"
      },
      "source": [
        "  a = 0\n",
        "  while (a<5):\n",
        "    print(a)\n",
        "    a = a+1"
      ],
      "execution_count": null,
      "outputs": [
        {
          "output_type": "stream",
          "text": [
            "0\n",
            "1\n",
            "2\n",
            "3\n",
            "4\n"
          ],
          "name": "stdout"
        }
      ]
    },
    {
      "cell_type": "code",
      "metadata": {
        "id": "UMujpSjn6Zl9",
        "colab_type": "code",
        "colab": {
          "base_uri": "https://localhost:8080/",
          "height": 102
        },
        "outputId": "5070e224-6086-4575-fce0-91cc70acbd01"
      },
      "source": [
        "  tup = (5,4,3,2,1)\n",
        "  for t in tup:\n",
        "    print(t)"
      ],
      "execution_count": null,
      "outputs": [
        {
          "output_type": "stream",
          "text": [
            "5\n",
            "4\n",
            "3\n",
            "2\n",
            "1\n"
          ],
          "name": "stdout"
        }
      ]
    },
    {
      "cell_type": "code",
      "metadata": {
        "id": "IFZnIJwA8m7k",
        "colab_type": "code",
        "colab": {
          "base_uri": "https://localhost:8080/",
          "height": 265
        },
        "outputId": "0d54158b-4705-4e0a-d010-e4ede4329fd8"
      },
      "source": [
        "import matplotlib.pyplot as plt\n",
        "plt.plot([1,2,3,4,5], [1,2,3,4,5])\n",
        "plt.show()"
      ],
      "execution_count": null,
      "outputs": [
        {
          "output_type": "display_data",
          "data": {
            "image/png": "[encoded data removed]",
            "text/plain": [
              "<Figure size 432x288 with 1 Axes>"
            ]
          },
          "metadata": {
            "tags": [],
            "needs_background": "light"
          }
        }
      ]
    },
    {
      "cell_type": "code",
      "metadata": {
        "id": "vsb7b-KF9RvG",
        "colab_type": "code",
        "colab": {
          "base_uri": "https://localhost:8080/",
          "height": 329
        },
        "outputId": "83b2b364-4ef5-4a97-cc49-49a10c45a8ca"
      },
      "source": [
        "import numpy as np\n",
        "t = np.arange(0.0, 5.0, 0.2)\n",
        "print(t)\n",
        "\n",
        "plt.plot(t,t, 'r--', t, t**2, 'bs', t, t**3, 'g^')\n",
        "plt.title('Grafik Macam-Macam')\n",
        "plt.xlabel('Sumbu X')\n",
        "plt.ylabel('Sumbu Y')\n",
        "plt.legend(['Garis Lurus', 'Kuadratik', 'Pangkat 3'])\n",
        "plt.grid(True)\n",
        "plt.show()"
      ],
      "execution_count": null,
      "outputs": [
        {
          "output_type": "stream",
          "text": [
            "[0.  0.2 0.4 0.6 0.8 1.  1.2 1.4 1.6 1.8 2.  2.2 2.4 2.6 2.8 3.  3.2 3.4\n",
            " 3.6 3.8 4.  4.2 4.4 4.6 4.8]\n"
          ],
          "name": "stdout"
        },
        {
          "output_type": "display_data",
          "data": {
            "image/png": "[encoded data removed]",
            "text/plain": [
              "<Figure size 432x288 with 1 Axes>"
            ]
          },
          "metadata": {
            "tags": [],
            "needs_background": "light"
          }
        }
      ]
    },
    {
      "cell_type": "code",
      "metadata": {
        "id": "qc5cYskoAlKN",
        "colab_type": "code",
        "colab": {
          "base_uri": "https://localhost:8080/",
          "height": 129
        },
        "outputId": "05358528-0135-45e2-facb-4f1e84e7ba87"
      },
      "source": [
        "#def f(t): \n",
        "#  return np.exp(-t)* np.cos(2*np.pi*t)\n",
        "\n",
        "#lambda function\n",
        "  f = lambda t: np.exp(-t) * np.cos(2 * np.pi * t)\n",
        "\n",
        "  t1 = np.arange(0.0, 5.0, 0.1)\n",
        "  t2 = np.arange(0.0, 5.0, 0.2)\n",
        "\n",
        "  plt.subplot(211)\n",
        "  plt.plot(t1, f(t1), 'bo', t2, f(t2), 'k')\n",
        "\n",
        "  plt.subplot(212)\n",
        "  plt.plot(t2, np.cose(2* np.pi* t(2), 'r--'))\n",
        "  plt.show()"
      ],
      "execution_count": null,
      "outputs": [
        {
          "output_type": "error",
          "ename": "IndentationError",
          "evalue": "ignored",
          "traceback": [
            "\u001b[0;36m  File \u001b[0;32m\"<ipython-input-26-8316da25dd0e>\"\u001b[0;36m, line \u001b[0;32m5\u001b[0m\n\u001b[0;31m    f = lambda t: np.exp(-t) * np.cos(2 * np.pi * t)\u001b[0m\n\u001b[0m    ^\u001b[0m\n\u001b[0;31mIndentationError\u001b[0m\u001b[0;31m:\u001b[0m unexpected indent\n"
          ]
        }
      ]
    }
  ]
}